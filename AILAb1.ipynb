{
 "cells": [
  {
   "cell_type": "code",
   "execution_count": 3,
   "id": "c28ca8fd-3619-4aaf-8829-f678b907d440",
   "metadata": {},
   "outputs": [
    {
     "name": "stdin",
     "output_type": "stream",
     "text": [
      "enter name Sohini\n"
     ]
    },
    {
     "name": "stdout",
     "output_type": "stream",
     "text": [
      "Sohini\n"
     ]
    }
   ],
   "source": [
    "\n",
    "s=input(\"enter name\")\n",
    "print(s)\n"
   ]
  },
  {
   "cell_type": "code",
   "execution_count": 4,
   "id": "a90c4bf7-33eb-4e11-bf6e-d81244c18590",
   "metadata": {},
   "outputs": [],
   "source": [
    "import numpy"
   ]
  },
  {
   "cell_type": "code",
   "execution_count": 5,
   "id": "21bcf664-1857-4bcd-b049-43abe0a23750",
   "metadata": {},
   "outputs": [],
   "source": [
    "#coment line\n",
    "\n"
   ]
  },
  {
   "cell_type": "code",
   "execution_count": 6,
   "id": "2a802ade-252b-4766-8ffe-f30ebeb5e0c4",
   "metadata": {},
   "outputs": [
    {
     "name": "stdout",
     "output_type": "stream",
     "text": [
      "hello world\n"
     ]
    }
   ],
   "source": [
    "print('hello world')"
   ]
  },
  {
   "cell_type": "code",
   "execution_count": 12,
   "id": "cc0b9480-e7e1-4428-acc1-44a1937364e3",
   "metadata": {},
   "outputs": [
    {
     "name": "stdout",
     "output_type": "stream",
     "text": [
      "(20+3j)\n",
      "<class 'complex'>\n"
     ]
    }
   ],
   "source": [
    "a=20+3j\n",
    "print(a)\n",
    "print(type(a))"
   ]
  },
  {
   "cell_type": "code",
   "execution_count": 17,
   "id": "632ca617-0194-4b35-b3c2-7d286972e0e8",
   "metadata": {},
   "outputs": [
    {
     "name": "stdout",
     "output_type": "stream",
     "text": [
      "('apple', 'banana', 'cherry')\n",
      "<class 'tuple'>\n"
     ]
    }
   ],
   "source": [
    "x=(\"apple\",\"banana\",\"cherry\")\n",
    "print(x)\n",
    "print(type(x))"
   ]
  },
  {
   "cell_type": "code",
   "execution_count": 18,
   "id": "1290a4a5-8404-4cc3-a67f-528db22cc64b",
   "metadata": {},
   "outputs": [
    {
     "name": "stdout",
     "output_type": "stream",
     "text": [
      "{'cse': ['1', '5', '8', '10'], 'cs2': ['2', '7', '8']}\n"
     ]
    }
   ],
   "source": [
    "x={'cse':['1','5','8','10'],'cs2':['2','7','8']}\n",
    "print(x)"
   ]
  },
  {
   "cell_type": "code",
   "execution_count": 21,
   "id": "844d5842-c945-4bc9-b0b7-991523fdd434",
   "metadata": {},
   "outputs": [
    {
     "name": "stdout",
     "output_type": "stream",
     "text": [
      "['1', '5', '8', '10']\n"
     ]
    }
   ],
   "source": [
    "x={'roll':['1','5','8','10'],'sem':['1st','2nd','3rd'],'credit':[150,160]}\n",
    "print(x['roll'])"
   ]
  },
  {
   "cell_type": "code",
   "execution_count": 20,
   "id": "ae0b6c2b-0f59-49b8-b18f-937955277729",
   "metadata": {},
   "outputs": [
    {
     "name": "stdin",
     "output_type": "stream",
     "text": [
      " 12\n"
     ]
    }
   ],
   "source": [
    "a=input()"
   ]
  },
  {
   "cell_type": "code",
   "execution_count": 9,
   "id": "43638241-21c7-487f-980f-cdc3f420c857",
   "metadata": {},
   "outputs": [
    {
     "name": "stdout",
     "output_type": "stream",
     "text": [
      "12\n"
     ]
    }
   ],
   "source": [
    "print(a)\n"
   ]
  },
  {
   "cell_type": "code",
   "execution_count": 22,
   "id": "abbcf260-ff1e-40f4-953c-a44c0b62f98d",
   "metadata": {},
   "outputs": [
    {
     "name": "stdout",
     "output_type": "stream",
     "text": [
      "b is greater\n"
     ]
    }
   ],
   "source": [
    "a=12\n",
    "b=90\n",
    "if(a>b):\n",
    "    print('a is greater')\n",
    "else:\n",
    "    print('b is greater')\n"
   ]
  },
  {
   "cell_type": "code",
   "execution_count": 23,
   "id": "ec1b6270-48e8-40ff-9302-17d6661214e5",
   "metadata": {},
   "outputs": [
    {
     "name": "stdout",
     "output_type": "stream",
     "text": [
      "5\n",
      "6\n",
      "7\n",
      "8\n",
      "9\n"
     ]
    }
   ],
   "source": [
    "i=5\n",
    "while(i<10):\n",
    "    print(i)\n",
    "    i=i+1"
   ]
  },
  {
   "cell_type": "code",
   "execution_count": 26,
   "id": "2a902ff0-2728-4ff2-9b5d-7bd8eff5cffe",
   "metadata": {},
   "outputs": [
    {
     "name": "stdout",
     "output_type": "stream",
     "text": [
      "5\n",
      "8\n",
      "11\n",
      "14\n",
      "17\n"
     ]
    }
   ],
   "source": [
    "\n",
    "for i in range(5,20,3):\n",
    "    print(i)\n",
    "    "
   ]
  },
  {
   "cell_type": "code",
   "execution_count": 32,
   "id": "0060cfc9-a40c-4eef-806f-ff1d6b5bedfa",
   "metadata": {},
   "outputs": [
    {
     "name": "stdout",
     "output_type": "stream",
     "text": [
      "1\n",
      "2\n",
      "3\n",
      "4\n"
     ]
    },
    {
     "data": {
      "text/plain": [
       "1000"
      ]
     },
     "execution_count": 32,
     "metadata": {},
     "output_type": "execute_result"
    }
   ],
   "source": [
    "#how to write a simple function\n",
    "def fun1(i):\n",
    "    while(i<5):\n",
    "        print(i)\n",
    "        i=i+1\n",
    "    return(1000)\n",
    "fun1(1)"
   ]
  },
  {
   "cell_type": "code",
   "execution_count": 34,
   "id": "207e50af-4633-4180-89f6-00a12605c80d",
   "metadata": {},
   "outputs": [
    {
     "name": "stdin",
     "output_type": "stream",
     "text": [
      " 10\n",
      " 2\n",
      " 3\n"
     ]
    },
    {
     "name": "stdout",
     "output_type": "stream",
     "text": [
      "10\n"
     ]
    }
   ],
   "source": [
    "#1.)Wap to input 3 numbers and find the largest one by user input.#3.)Wap to find sum of digits of a number using a function.\n",
    "#4.)Wap to store the information of the student like the name,father name,address,phone number and display it using dictionary\n",
    "#4.)WAP to keep the details of different subject their credit and number of tutorials and number of theory hours using dictionary.\n",
    "a=int(input())\n",
    "b=int(input())\n",
    "c=int(input())\n",
    "if(a>b and a>c):\n",
    "    print(a)\n",
    "    if(b>c and b>a):\n",
    "        print(b)\n",
    "else:\n",
    "    print(c)"
   ]
  },
  {
   "cell_type": "code",
   "execution_count": 35,
   "id": "1971123d-fc95-4d7a-8cf5-d82ab2fc4604",
   "metadata": {},
   "outputs": [
    {
     "name": "stdin",
     "output_type": "stream",
     "text": [
      " Sohini\n",
      " Dona\n",
      " Rima\n",
      " Sheetal\n",
      " Jana\n"
     ]
    },
    {
     "name": "stdout",
     "output_type": "stream",
     "text": [
      "['Sohini', 'Dona', 'Rima', 'Sheetal', 'Jana']\n"
     ]
    }
   ],
   "source": [
    "#2.)Wap to enter the name of 5 students into the list and then display it.\n",
    "l=[]\n",
    "for i in range(5):\n",
    "    n=input()\n",
    "    l.append(n)\n",
    "print(l)"
   ]
  },
  {
   "cell_type": "code",
   "execution_count": 36,
   "id": "8ffc7b36-7024-4296-8578-3246185fcec9",
   "metadata": {},
   "outputs": [
    {
     "name": "stdin",
     "output_type": "stream",
     "text": [
      " 123\n"
     ]
    },
    {
     "ename": "UnboundLocalError",
     "evalue": "cannot access local variable 's' where it is not associated with a value",
     "output_type": "error",
     "traceback": [
      "\u001b[1;31m---------------------------------------------------------------------------\u001b[0m",
      "\u001b[1;31mUnboundLocalError\u001b[0m                         Traceback (most recent call last)",
      "Cell \u001b[1;32mIn[36], line 9\u001b[0m\n\u001b[0;32m      7\u001b[0m     \u001b[38;5;28;01mreturn\u001b[39;00m s\n\u001b[0;32m      8\u001b[0m n\u001b[38;5;241m=\u001b[39m\u001b[38;5;28mint\u001b[39m(\u001b[38;5;28minput\u001b[39m())\n\u001b[1;32m----> 9\u001b[0m \u001b[38;5;28msum\u001b[39m(n)\n",
      "Cell \u001b[1;32mIn[36], line 6\u001b[0m, in \u001b[0;36msum\u001b[1;34m(n)\u001b[0m\n\u001b[0;32m      4\u001b[0m \u001b[38;5;28;01mwhile\u001b[39;00m(n\u001b[38;5;241m>\u001b[39m\u001b[38;5;241m0\u001b[39m):\n\u001b[0;32m      5\u001b[0m     r\u001b[38;5;241m=\u001b[39mn\u001b[38;5;241m%\u001b[39m\u001b[38;5;241m10\u001b[39m\n\u001b[1;32m----> 6\u001b[0m     s\u001b[38;5;241m=\u001b[39ms\u001b[38;5;241m+\u001b[39mr\n\u001b[0;32m      7\u001b[0m \u001b[38;5;28;01mreturn\u001b[39;00m s\n",
      "\u001b[1;31mUnboundLocalError\u001b[0m: cannot access local variable 's' where it is not associated with a value"
     ]
    }
   ],
   "source": [
    "#3.)Wap to find sum of digits of a number using a function.\n",
    "s=0\n",
    "def sum(n):\n",
    "    while(n>0):\n",
    "        r=n%10\n",
    "        s=s+r\n",
    "    return s\n",
    "n=int(input())\n",
    "sum(n)\n"
   ]
  },
  {
   "cell_type": "code",
   "execution_count": null,
   "id": "28b824da-c857-4008-82be-47f5d8af5624",
   "metadata": {},
   "outputs": [],
   "source": []
  }
 ],
 "metadata": {
  "kernelspec": {
   "display_name": "Python 3 (ipykernel)",
   "language": "python",
   "name": "python3"
  },
  "language_info": {
   "codemirror_mode": {
    "name": "ipython",
    "version": 3
   },
   "file_extension": ".py",
   "mimetype": "text/x-python",
   "name": "python",
   "nbconvert_exporter": "python",
   "pygments_lexer": "ipython3",
   "version": "3.12.4"
  }
 },
 "nbformat": 4,
 "nbformat_minor": 5
}
