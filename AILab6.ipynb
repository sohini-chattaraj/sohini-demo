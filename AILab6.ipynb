{
 "cells": [
  {
   "cell_type": "code",
   "execution_count": 1,
   "id": "c2f528d4-7182-46da-b936-1192eb35c49c",
   "metadata": {},
   "outputs": [
    {
     "name": "stdout",
     "output_type": "stream",
     "text": [
      "Path from Node 1 to Node 8: [1, 2, 6, 8]\n"
     ]
    }
   ],
   "source": [
    "from collections import deque\n",
    "\n",
    "# Function to perform BFS and return the path\n",
    "def bfs_path(graph, start, goal):\n",
    "    queue = deque([start])\n",
    "    visited = set()\n",
    "    parent = {start: None}\n",
    "\n",
    "    while queue:\n",
    "        current = queue.popleft()\n",
    "        if current == goal:\n",
    "            break\n",
    "        visited.add(current)\n",
    "        \n",
    "        for neighbor in range(len(graph)):\n",
    "            if graph[current][neighbor] == 1 and neighbor not in visited and neighbor not in queue:\n",
    "                parent[neighbor] = current\n",
    "                queue.append(neighbor)\n",
    "                \n",
    "    # Reconstruct path from start to goal\n",
    "    path = []\n",
    "    while goal is not None:\n",
    "        path.append(goal)\n",
    "        goal = parent[goal]\n",
    "    path.reverse()\n",
    "    return path\n",
    "\n",
    "# Example graph represented as an adjacency matrix\n",
    "# 0-based index: Node 1 is 0, Node 2 is 1, ..., Node 8 is 7\n",
    "graph = [\n",
    "    [0, 1, 1, 1, 1, 0, 0, 0],  # Node 1 connections\n",
    "    [1, 0, 0, 0, 0, 1, 0, 0],  # Node 2 connections\n",
    "    [1, 0, 0, 0, 0, 1, 0, 0],  # Node 3 connections\n",
    "    [1, 0, 0, 0, 0, 0, 1, 0],  # Node 4 connections\n",
    "    [1, 0, 0, 0, 0, 0, 1, 0],  # Node 5 connections\n",
    "    [0, 1, 1, 0, 0, 0, 0, 1],  # Node 6 connections\n",
    "    [0, 0, 0, 1, 1, 0, 0, 1],  # Node 7 connections\n",
    "    [0, 0, 0, 0, 0, 1, 1, 0]   # Node 8 connections\n",
    "]\n",
    "\n",
    "# Define start and goal nodes (0-based index)\n",
    "start_node = 0  # Node 1\n",
    "goal_node = 7   # Node 8\n",
    "\n",
    "# Find path using BFS\n",
    "path = bfs_path(graph, start_node, goal_node)\n",
    "print(\"Path from Node 1 to Node 8:\", [p + 1 for p in path])\n"
   ]
  },
  {
   "cell_type": "code",
   "execution_count": 2,
   "id": "155bb72b-5494-4600-b2d9-9ebae36f576c",
   "metadata": {},
   "outputs": [
    {
     "name": "stdout",
     "output_type": "stream",
     "text": [
      "Path from source to destination: [(0, 0), (1, 0), (2, 0), (3, 0), (4, 0), (4, 1), (4, 2), (4, 3), (4, 4)]\n"
     ]
    }
   ],
   "source": [
    "from collections import deque\n",
    "\n",
    "# Function to check if a cell is within the grid and not an obstacle\n",
    "def is_safe(grid, x, y, visited):\n",
    "    return 0 <= x < len(grid) and 0 <= y < len(grid[0]) and grid[x][y] == 0 and (x, y) not in visited\n",
    "\n",
    "# Function to perform BFS and find the path in the maze\n",
    "def bfs_maze(grid, start, end):\n",
    "    rows, cols = len(grid), len(grid[0])\n",
    "    queue = deque([(start, [start])])\n",
    "    visited = set([start])\n",
    "    \n",
    "    # Possible movements (right, down, left, up)\n",
    "    moves = [(0, 1), (1, 0), (0, -1), (-1, 0)]\n",
    "\n",
    "    while queue:\n",
    "        (x, y), path = queue.popleft()\n",
    "        \n",
    "        if (x, y) == end:\n",
    "            return path\n",
    "        \n",
    "        for dx, dy in moves:\n",
    "            nx, ny = x + dx, y + dy\n",
    "            if is_safe(grid, nx, ny, visited):\n",
    "                visited.add((nx, ny))\n",
    "                queue.append(((nx, ny), path + [(nx, ny)]))\n",
    "    \n",
    "    return []\n",
    "\n",
    "# Define the maze (0: free path, 1: obstacle)\n",
    "maze = [\n",
    "    [0, 1, 0, 0, 0],\n",
    "    [0, 1, 0, 1, 0],\n",
    "    [0, 0, 0, 1, 0],\n",
    "    [0, 1, 1, 1, 0],\n",
    "    [0, 0, 0, 0, 0]\n",
    "]\n",
    "\n",
    "# Define start and end points (0-based index)\n",
    "start_point = (0, 0)  # Source\n",
    "end_point = (4, 4)    # Dest\n",
    "\n",
    "# Find path using BFS\n",
    "path = bfs_maze(maze, start_point, end_point)\n",
    "print(\"Path from source to destination:\", path)\n"
   ]
  },
  {
   "cell_type": "code",
   "execution_count": null,
   "id": "8b4b81e5-8332-48d2-aa2e-6b7f88b55615",
   "metadata": {},
   "outputs": [],
   "source": []
  }
 ],
 "metadata": {
  "kernelspec": {
   "display_name": "Python 3 (ipykernel)",
   "language": "python",
   "name": "python3"
  },
  "language_info": {
   "codemirror_mode": {
    "name": "ipython",
    "version": 3
   },
   "file_extension": ".py",
   "mimetype": "text/x-python",
   "name": "python",
   "nbconvert_exporter": "python",
   "pygments_lexer": "ipython3",
   "version": "3.12.4"
  }
 },
 "nbformat": 4,
 "nbformat_minor": 5
}
