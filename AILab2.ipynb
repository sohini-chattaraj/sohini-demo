{
 "cells": [
  {
   "cell_type": "code",
   "execution_count": 5,
   "id": "0026b685-affc-432f-a6c8-7b1db345945d",
   "metadata": {},
   "outputs": [
    {
     "name": "stdout",
     "output_type": "stream",
     "text": [
      "['hello', 'welcome']\n"
     ]
    }
   ],
   "source": [
    "#list L=['1','2','3']\n",
    "#set\n",
    "#dictioinary-unordered\n",
    "a=[]\n",
    "a.append('hello')\n",
    "a.append('welcome')\n",
    "print(a)"
   ]
  },
  {
   "cell_type": "code",
   "execution_count": 7,
   "id": "e4ebfdeb-3c15-463c-ad9c-fc9bd9847e10",
   "metadata": {},
   "outputs": [
    {
     "name": "stdout",
     "output_type": "stream",
     "text": [
      "{'1', '2'}\n"
     ]
    }
   ],
   "source": [
    "b=set()\n",
    "b.add('1')\n",
    "b.add('2')\n",
    "print(b)"
   ]
  },
  {
   "cell_type": "code",
   "execution_count": 9,
   "id": "a78879f8-9c96-411d-84bc-4591aee5cc19",
   "metadata": {},
   "outputs": [
    {
     "name": "stdout",
     "output_type": "stream",
     "text": [
      "{'d', 'b', 'c'}\n"
     ]
    }
   ],
   "source": [
    "c=dict()\n",
    "c.update({'A':{'b','c','d'}})\n",
    "c.update({'X':{'p','q'}})\n",
    "print(c['A'])"
   ]
  },
  {
   "cell_type": "code",
   "execution_count": 13,
   "id": "f8b0d6d9-377a-4224-a6ce-89f784744922",
   "metadata": {},
   "outputs": [
    {
     "name": "stdout",
     "output_type": "stream",
     "text": [
      "1\n",
      "2\n",
      "3\n"
     ]
    }
   ],
   "source": [
    "s=['1','2','3']\n",
    "for i in range(len(s)):\n",
    "    print(s[i])"
   ]
  },
  {
   "cell_type": "code",
   "execution_count": 19,
   "id": "0b639d5e-10d7-4e89-8870-e1cc3ed494f5",
   "metadata": {},
   "outputs": [
    {
     "name": "stdout",
     "output_type": "stream",
     "text": [
      "A\n",
      "B\n"
     ]
    }
   ],
   "source": [
    "x=dict()\n",
    "x.update({'A':['B','C','D']})\n",
    "x.update({'B':['C','E']})\n",
    "for i in x:\n",
    "    print(i)\n",
    "    \n",
    "               \n"
   ]
  },
  {
   "cell_type": "code",
   "execution_count": 17,
   "id": "4e8f6ba0-ff80-4445-b05d-2984b9167d0f",
   "metadata": {},
   "outputs": [
    {
     "name": "stdout",
     "output_type": "stream",
     "text": [
      "20\n"
     ]
    },
    {
     "data": {
      "text/plain": [
       "43"
      ]
     },
     "execution_count": 17,
     "metadata": {},
     "output_type": "execute_result"
    }
   ],
   "source": [
    "def fun(x):\n",
    "    print(x)\n",
    "    return(x+23)\n",
    "y=20\n",
    "fun(y)"
   ]
  },
  {
   "cell_type": "code",
   "execution_count": null,
   "id": "2ce2fce1-6b53-44a0-8aa3-54cb037c2b5a",
   "metadata": {},
   "outputs": [],
   "source": [
    "#Depth First Search take stack so last in first out A:{B C D E}\n",
    "#B=(A,C,F}\n",
    "#C:{B,A}\n",
    "#D:{A,E}\n",
    "\n",
    "\n",
    "\n",
    "#requirements\n",
    "#traverse function contains:\n",
    "#visited={}intially blank,stack=list->push->stack.extend('A') inside stack waiting stage and outside processing \n",
    "\n"
   ]
  },
  {
   "cell_type": "code",
   "execution_count": 2,
   "id": "53a6343d-e3be-475f-a7d4-a902e90639f5",
   "metadata": {},
   "outputs": [
    {
     "name": "stdout",
     "output_type": "stream",
     "text": [
      "Following is the Depth-First Search\n",
      "A\n",
      "B\n",
      "C\n",
      "G\n",
      "E\n",
      "F\n",
      "D\n"
     ]
    }
   ],
   "source": [
    "graph={'A':['B','C','D','E'],\n",
    "'B':['A','C','G'],\n",
    "'C':['A','B'],\n",
    "'D':['A','E'],\n",
    "'E':['G','F','A'],\n",
    "'G':['B','E','F'],\n",
    "'F':['E','G']}\n",
    "visited = set() # Set to keep track of visited nodes of graph.\n",
    "\n",
    "def dfs_recursive(visited, graph, node):  #function for dfs \n",
    "    if node not in visited:\n",
    "        print (node)\n",
    "        visited.add(node)\n",
    "        for neighbour in graph[node]:\n",
    "            dfs_recursive(visited, graph, neighbour)\n",
    "\n",
    "# Driver Code\n",
    "print(\"Following is the Depth-First Search\")\n",
    "dfs_recursive(visited, graph, 'A')\n",
    "\n"
   ]
  },
  {
   "cell_type": "code",
   "execution_count": 24,
   "id": "a8ca6e40-93ca-47cc-8001-3f333059f357",
   "metadata": {},
   "outputs": [
    {
     "name": "stdout",
     "output_type": "stream",
     "text": [
      "A B C G E F D "
     ]
    }
   ],
   "source": [
    "graph={'A':['B','C','D','E'],\n",
    "'B':['A','C','G'],\n",
    "'C':['A','B'],\n",
    "'D':['A','E'],\n",
    "'E':['G','F','A'],\n",
    "'G':['B','E','F'],\n",
    "'F':['E','G']}\n",
    "def dfs_iterative(graph,start):\n",
    "    visited=set()\n",
    "    stack = [start]\n",
    "\n",
    "    while stack:\n",
    "\n",
    "        node = stack.pop()\n",
    "\n",
    "        if node not in visited:\n",
    "\n",
    "            print(node, end=' ')\n",
    "\n",
    "            visited.add(node)\n",
    "\n",
    "            stack.extend(reversed(graph[node])) \n",
    "dfs_iterative(graph, 'A')\n",
    "    \n",
    "    \n"
   ]
  },
  {
   "cell_type": "code",
   "execution_count": null,
   "id": "66a480c5-d12b-4c1c-a86b-4788bb81159c",
   "metadata": {},
   "outputs": [],
   "source": []
  }
 ],
 "metadata": {
  "kernelspec": {
   "display_name": "Python 3 (ipykernel)",
   "language": "python",
   "name": "python3"
  },
  "language_info": {
   "codemirror_mode": {
    "name": "ipython",
    "version": 3
   },
   "file_extension": ".py",
   "mimetype": "text/x-python",
   "name": "python",
   "nbconvert_exporter": "python",
   "pygments_lexer": "ipython3",
   "version": "3.12.4"
  }
 },
 "nbformat": 4,
 "nbformat_minor": 5
}
