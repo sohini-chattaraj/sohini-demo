{
 "cells": [
  {
   "cell_type": "code",
   "execution_count": 1,
   "id": "b956e112-c840-4757-a8d3-7291ced87273",
   "metadata": {},
   "outputs": [
    {
     "name": "stdout",
     "output_type": "stream",
     "text": [
      "Initial Matrix:\n",
      "| 1 | 2 |   |\n",
      "|   | 1 | 2 |\n",
      "|   | 2 |   |\n",
      "\n",
      "Placing X at position (0, 2):\n",
      "| 1 | 2 | X |\n",
      "|   | 1 | 2 |\n",
      "|   | 2 |   |\n",
      "\n",
      "Placing X at position (1, 0):\n",
      "| 1 | 2 |   |\n",
      "| X | 1 | 2 |\n",
      "|   | 2 |   |\n",
      "\n",
      "Placing X at position (2, 0):\n",
      "| 1 | 2 |   |\n",
      "|   | 1 | 2 |\n",
      "| X | 2 |   |\n",
      "\n",
      "Placing X at position (2, 2):\n",
      "| 1 | 2 |   |\n",
      "|   | 1 | 2 |\n",
      "|   | 2 | X |\n",
      "\n",
      "No goal reached by placing a single X.\n"
     ]
    }
   ],
   "source": [
    "def check_goal(matrix):\n",
    "    # Check rows\n",
    "    for row in matrix:\n",
    "        if row.count('X') == 3:\n",
    "            return True\n",
    "    \n",
    "    # Check columns\n",
    "    for col in range(3):\n",
    "        if matrix[0][col] == matrix[1][col] == matrix[2][col] == 'X':\n",
    "            return True\n",
    "    \n",
    "    # Check diagonals\n",
    "    if matrix[0][0] == matrix[1][1] == matrix[2][2] == 'X':\n",
    "        return True\n",
    "    if matrix[0][2] == matrix[1][1] == matrix[2][0] == 'X':\n",
    "        return True\n",
    "    \n",
    "    return False\n",
    "\n",
    "def print_matrix(matrix):\n",
    "    for row in matrix:\n",
    "        print(\"| \" + \" | \".join(str(cell) if cell is not None else \" \" for cell in row) + \" |\")\n",
    "\n",
    "# Initial matrix\n",
    "matrix = [\n",
    "    [1, 2, None],\n",
    "    [None, 1, 2],\n",
    "    [None, 2, None]\n",
    "]\n",
    "\n",
    "print(\"Initial Matrix:\")\n",
    "print_matrix(matrix)\n",
    "\n",
    "# Place X in empty spots and check goal\n",
    "for i in range(3):\n",
    "    for j in range(3):\n",
    "        if matrix[i][j] is None:\n",
    "            matrix[i][j] = 'X'\n",
    "            print(f\"\\nPlacing X at position ({i}, {j}):\")\n",
    "            print_matrix(matrix)\n",
    "            if check_goal(matrix):\n",
    "                print(\"Goal reached! Three X's in a row, column, or diagonal.\")\n",
    "                exit()\n",
    "            matrix[i][j] = None  # Reset after checking\n",
    "\n",
    "print(\"\\nNo goal reached by placing a single X.\")"
   ]
  },
  {
   "cell_type": "code",
   "execution_count": null,
   "id": "4c35da21-61ca-4d70-bb01-63f5e8c86190",
   "metadata": {},
   "outputs": [],
   "source": []
  },
  {
   "cell_type": "code",
   "execution_count": null,
   "id": "1c42d09f-3b58-424c-ad4d-83981f571d2a",
   "metadata": {},
   "outputs": [],
   "source": []
  }
 ],
 "metadata": {
  "kernelspec": {
   "display_name": "Python 3 (ipykernel)",
   "language": "python",
   "name": "python3"
  },
  "language_info": {
   "codemirror_mode": {
    "name": "ipython",
    "version": 3
   },
   "file_extension": ".py",
   "mimetype": "text/x-python",
   "name": "python",
   "nbconvert_exporter": "python",
   "pygments_lexer": "ipython3",
   "version": "3.12.4"
  }
 },
 "nbformat": 4,
 "nbformat_minor": 5
}
