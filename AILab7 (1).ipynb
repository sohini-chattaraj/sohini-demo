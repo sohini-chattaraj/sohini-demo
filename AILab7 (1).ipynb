{
 "cells": [
  {
   "cell_type": "code",
   "execution_count": 1,
   "id": "79ffe361-c9a0-4512-babe-b1e0824b615e",
   "metadata": {},
   "outputs": [
    {
     "name": "stdout",
     "output_type": "stream",
     "text": [
      "All possible paths from A to G:\n",
      "['A', 'B', 'G']\n",
      "['A', 'C', 'B', 'G']\n",
      "['A', 'C', 'D', 'E', 'G']\n",
      "['A', 'B', 'C', 'D', 'E', 'G']\n",
      "['A', 'C', 'D', 'E', 'F', 'G']\n",
      "['A', 'C', 'D', 'E', 'B', 'G']\n",
      "['A', 'B', 'C', 'D', 'E', 'F', 'G']\n",
      "['A', 'C', 'D', 'E', 'F', 'B', 'G']\n"
     ]
    }
   ],
   "source": [
    "from collections import deque, defaultdict\n",
    "\n",
    "def bfs_paths(graph, start, goal):\n",
    "    queue = deque([(start, [start])])\n",
    "    while queue:\n",
    "        (vertex, path) = queue.popleft()\n",
    "        for next in set(graph[vertex]) - set(path):\n",
    "            if next == goal:\n",
    "                yield path + [next]\n",
    "            else:\n",
    "                queue.append((next, path + [next]))\n",
    "\n",
    "# Define the graph as an adjacency list\n",
    "graph = {\n",
    "    'A': ['B', 'C'],\n",
    "    'B': ['G', 'C'],\n",
    "    'C': ['B', 'D'],\n",
    "    'D': ['C', 'E'],\n",
    "    'E': ['F', 'G', 'B'],\n",
    "    'F': ['B', 'G'],\n",
    "    'G': ['B','F']\n",
    "}\n",
    "\n",
    "# Find all paths from A to G\n",
    "start, goal = 'A', 'G'\n",
    "paths = list(bfs_paths(graph, start, goal))\n",
    "\n",
    "print(\"All possible paths from {} to {}:\".format(start, goal))\n",
    "for path in paths:\n",
    "    print(path)\n"
   ]
  },
  {
   "cell_type": "code",
   "execution_count": 3,
   "id": "b810ef14-80af-4914-a773-f86a15a6fa6b",
   "metadata": {},
   "outputs": [
    {
     "name": "stdout",
     "output_type": "stream",
     "text": [
      "All possible paths from A to E:\n",
      "['A', 'C', 'E']\n"
     ]
    }
   ],
   "source": [
    "from collections import deque, defaultdict\n",
    "\n",
    "def bfs_paths(graph, start, goal):\n",
    "    queue = deque([(start, [start])])\n",
    "    while queue:\n",
    "        (vertex, path) = queue.popleft()\n",
    "        for next in set(graph[vertex]) - set(path):\n",
    "            if next == goal:\n",
    "                yield path + [next]\n",
    "            else:\n",
    "                queue.append((next, path + [next]))\n",
    "\n",
    "# Define the graph as an adjacency list\n",
    "graph = {\n",
    "    'A': ['C'],\n",
    "    'B': ['A', 'C', 'D', 'E'],\n",
    "    'C': ['E'],\n",
    "    'D': ['E'],\n",
    "    'E': [],\n",
    "    \n",
    "}\n",
    "\n",
    "# Find all paths from A to G\n",
    "start, goal = 'A', 'E'\n",
    "paths = list(bfs_paths(graph, start, goal))\n",
    "\n",
    "print(\"All possible paths from {} to {}:\".format(start, goal))\n",
    "for path in paths:\n",
    "    print(path)\n"
   ]
  },
  {
   "cell_type": "code",
   "execution_count": 1,
   "id": "b2641123-335b-4a81-bdc3-b89d4e59d8f3",
   "metadata": {},
   "outputs": [
    {
     "name": "stdout",
     "output_type": "stream",
     "text": [
      "Shortest path from A to G:\n",
      "['A', 'B', 'D', 'F', 'G']\n"
     ]
    }
   ],
   "source": [
    "from queue import PriorityQueue\n",
    "\n",
    "def a_star_algorithm(graph, start, goal, heuristic):\n",
    "    open_list = PriorityQueue()\n",
    "    open_list.put((0, start))\n",
    "    came_from = {}\n",
    "    g_score = {node: float('inf') for node in graph}\n",
    "    g_score[start] = 0\n",
    "    f_score = {node: float('inf') for node in graph}\n",
    "    f_score[start] = heuristic[start]\n",
    "    \n",
    "    while not open_list.empty():\n",
    "        _, current = open_list.get()\n",
    "        \n",
    "        if current == goal:\n",
    "            path = []\n",
    "            while current in came_from:\n",
    "                path.append(current)\n",
    "                current = came_from[current]\n",
    "            path.append(start)\n",
    "            path.reverse()\n",
    "            return path\n",
    "        \n",
    "        for neighbor, weight in graph[current].items():\n",
    "            tentative_g_score = g_score[current] + weight\n",
    "            if tentative_g_score < g_score[neighbor]:\n",
    "                came_from[neighbor] = current\n",
    "                g_score[neighbor] = tentative_g_score\n",
    "                f_score[neighbor] = g_score[neighbor] + heuristic[neighbor]\n",
    "                open_list.put((f_score[neighbor], neighbor))\n",
    "    \n",
    "    return None\n",
    "\n",
    "# Define the graph as an adjacency list with weights\n",
    "graph = {\n",
    "    'A': {'B': 1, 'C': 4},\n",
    "    'B': {'D': 3, 'C': 2},\n",
    "    'C': {'E': 5},\n",
    "    'D': {'F': 2, 'G': 4},\n",
    "    'E': {'G': 3},\n",
    "    'F': {'G': 1},\n",
    "    'G': {}\n",
    "}\n",
    "\n",
    "# Define the heuristic estimates to goal node G\n",
    "heuristic = {\n",
    "    'A': 5,\n",
    "    'B': 6,\n",
    "    'C': 4,\n",
    "    'D': 3,\n",
    "    'E': 3,\n",
    "    'F': 1,\n",
    "    'G': 0\n",
    "}\n",
    "\n",
    "# Find the shortest path from A to G\n",
    "start, goal = 'A', 'G'\n",
    "shortest_path = a_star_algorithm(graph, start, goal, heuristic)\n",
    "\n",
    "print(\"Shortest path from {} to {}:\".format(start, goal))\n",
    "print(shortest_path)\n"
   ]
  },
  {
   "cell_type": "code",
   "execution_count": 3,
   "id": "f79b356f-588e-4aa3-97fa-0149047ccbeb",
   "metadata": {},
   "outputs": [
    {
     "name": "stdout",
     "output_type": "stream",
     "text": [
      "Goal node found: True\n"
     ]
    }
   ],
   "source": [
    "from collections import deque\n",
    "\n",
    "def is_goal_node(node, goal):\n",
    "    return node == goal\n",
    "\n",
    "def expand(node, graph):\n",
    "    return graph[node]\n",
    "\n",
    "def search_algorithm(start_node, goal, graph):\n",
    "    open_list = deque([start_node])\n",
    "    visited = set()\n",
    "\n",
    "    while open_list:\n",
    "        current_node = open_list.popleft()\n",
    "        visited.add(current_node)\n",
    "\n",
    "        if is_goal_node(current_node, goal):\n",
    "            return True\n",
    "        \n",
    "        for child in expand(current_node, graph):\n",
    "            if child not in visited:\n",
    "                open_list.append(child)\n",
    "\n",
    "    return False\n",
    "\n",
    "# Define the graph with added nodes\n",
    "graph = {\n",
    "    'A': ['B', 'C'],\n",
    "    'B': ['A', 'C', 'D'],\n",
    "    'C': ['A', 'B', 'E'],\n",
    "    'D': ['B', 'E', 'F'],\n",
    "    'E': ['C', 'D', 'F'],\n",
    "    'F': ['E', 'D']\n",
    "}\n",
    "\n",
    "# Define the start node and the goal node\n",
    "start_node = 'A'\n",
    "goal_node = 'F'\n",
    "\n",
    "# Call the search algorithm\n",
    "found = search_algorithm(start_node, goal_node, graph)\n",
    "print(\"Goal node found:\", found)\n"
   ]
  },
  {
   "cell_type": "code",
   "execution_count": 5,
   "id": "12379272-5ddc-4ced-9c9f-02769fbd494f",
   "metadata": {},
   "outputs": [
    {
     "name": "stdout",
     "output_type": "stream",
     "text": [
      "Goal node found: True\n"
     ]
    },
    {
     "name": "stdin",
     "output_type": "stream",
     "text": [
      "Enter a node to find its neighbors:  A\n"
     ]
    },
    {
     "name": "stdout",
     "output_type": "stream",
     "text": [
      "Neighbours of node A: ['B', 'C']\n"
     ]
    }
   ],
   "source": [
    "from collections import deque\n",
    "\n",
    "def is_goal_node(node, goal):\n",
    "    return node == goal\n",
    "\n",
    "def expand(node, graph):\n",
    "    return graph[node]\n",
    "\n",
    "def search_algorithm(start_node, goal, graph):\n",
    "    open_list = deque([start_node])\n",
    "    visited = set()\n",
    "\n",
    "    while open_list:\n",
    "        current_node = open_list.popleft()\n",
    "        visited.add(current_node)\n",
    "\n",
    "        if is_goal_node(current_node, goal):\n",
    "            return True\n",
    "        \n",
    "        for child in expand(current_node, graph):\n",
    "            if child not in visited:\n",
    "                open_list.append(child)\n",
    "\n",
    "    return False\n",
    "\n",
    "def search_neighbours(node, graph):\n",
    "    if node in graph:\n",
    "        return graph[node]\n",
    "    else:\n",
    "        return []\n",
    "\n",
    "# Define the graph with added nodes\n",
    "graph = {\n",
    "    'A': ['B', 'C'],\n",
    "    'B': ['A', 'C', 'D'],\n",
    "    'C': ['A', 'B', 'E'],\n",
    "    'D': ['B', 'E', 'F'],\n",
    "    'E': ['C', 'D', 'F'],\n",
    "    'F': ['E', 'D']\n",
    "}\n",
    "\n",
    "# Define the start node and the goal node\n",
    "start_node = 'A'\n",
    "goal_node = 'F'\n",
    "\n",
    "# Call the search algorithm\n",
    "found = search_algorithm(start_node, goal_node, graph)\n",
    "print(\"Goal node found:\", found)\n",
    "\n",
    "# User inputs the node to search for neighbors\n",
    "node_to_search = input(\"Enter a node to find its neighbors: \").upper()\n",
    "neighbours = search_neighbours(node_to_search, graph)\n",
    "print(f\"Neighbours of node {node_to_search}:\", neighbours if neighbours else \"Node not found in the graph.\")\n"
   ]
  },
  {
   "cell_type": "code",
   "execution_count": null,
   "id": "74493900-c6fb-48d6-9d37-977dc9eba537",
   "metadata": {},
   "outputs": [],
   "source": []
  }
 ],
 "metadata": {
  "kernelspec": {
   "display_name": "Python 3 (ipykernel)",
   "language": "python",
   "name": "python3"
  },
  "language_info": {
   "codemirror_mode": {
    "name": "ipython",
    "version": 3
   },
   "file_extension": ".py",
   "mimetype": "text/x-python",
   "name": "python",
   "nbconvert_exporter": "python",
   "pygments_lexer": "ipython3",
   "version": "3.12.4"
  }
 },
 "nbformat": 4,
 "nbformat_minor": 5
}
