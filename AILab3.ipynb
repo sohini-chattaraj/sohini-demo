{
 "cells": [
  {
   "cell_type": "code",
   "execution_count": 1,
   "id": "02d21e80-76a8-4842-9042-b9dfd88169b2",
   "metadata": {},
   "outputs": [
    {
     "name": "stdout",
     "output_type": "stream",
     "text": [
      "DFS Traversal:\n",
      "0 3 2 1 4 "
     ]
    }
   ],
   "source": [
    "import numpy as np\n",
    "\n",
    "Adj_Matrix = [\n",
    "    ['0', '0', '0', '1', '0'],\n",
    "    ['1', '0', '0', '0', '1'],\n",
    "    ['0', '1', '0', '0', '1'],\n",
    "    ['0', '0', '1', '0', '1'],\n",
    "    ['0', '1', '1', '0', '0']\n",
    "]\n",
    "\n",
    "def create_adj_list(adj_matrix):\n",
    "    graph = {}\n",
    "    for i in range(len(adj_matrix)):\n",
    "        graph[i] = []\n",
    "        for j in range(len(adj_matrix[i])):\n",
    "            if adj_matrix[i][j] != '0':\n",
    "                graph[i].append(j)\n",
    "    return graph\n",
    "\n",
    "def DFS_iterative(graph, start):\n",
    "    visited = set()\n",
    "    stack = [start]\n",
    "    \n",
    "    print(\"DFS Traversal:\")\n",
    "    while stack:\n",
    "        vertex = stack.pop()\n",
    "        if vertex not in visited:\n",
    "            print(vertex, end=\" \")\n",
    "            visited.add(vertex)\n",
    "            stack.extend(reversed(graph[vertex]))\n",
    "\n",
    "\n",
    "graph = create_adj_list(Adj_Matrix)\n",
    "\n",
    "DFS_iterative(graph, 0)\n"
   ]
  },
  {
   "cell_type": "code",
   "execution_count": 1,
   "id": "df563294-f926-455d-8711-e6fdc4fdb8a7",
   "metadata": {},
   "outputs": [
    {
     "name": "stdout",
     "output_type": "stream",
     "text": [
      "0 3 2 1 4 "
     ]
    }
   ],
   "source": [
    "import numpy as np\n",
    "\n",
    "\n",
    "Adj_Matrix = [\n",
    "    ['0', '0', '0', '1', '0'],\n",
    "    ['1', '0', '0', '0', '1'],\n",
    "    ['0', '1', '0', '0', '1'],\n",
    "    ['0', '0', '1', '0', '1'],\n",
    "    ['0', '1', '1', '0', '0']\n",
    "]\n",
    "\n",
    "\n",
    "def create_adj_list(adj_matrix):\n",
    "    graph = {}\n",
    "    for i in range(len(adj_matrix)):\n",
    "        graph[i] = []\n",
    "        for j in range(len(adj_matrix[i])):\n",
    "            if adj_matrix[i][j] != '0':\n",
    "                graph[i].append(j)\n",
    "    return graph\n",
    "    \n",
    "def DFS_recursive(graph, vertex, visited):\n",
    "    if vertex not in visited:\n",
    "        print(vertex, end=\" \")\n",
    "        visited.add(vertex)\n",
    "        for neighbor in graph[vertex]:\n",
    "            DFS_recursive(graph, neighbor, visited)\n",
    "\n",
    "\n",
    "graph = create_adj_list(Adj_Matrix)\n",
    "\n",
    "visited = set()\n",
    "DFS_recursive(graph, 0, visited)\n"
   ]
  },
  {
   "cell_type": "code",
   "execution_count": null,
   "id": "ca86b98c-127b-43db-a256-dbd665852857",
   "metadata": {},
   "outputs": [],
   "source": []
  },
  {
   "cell_type": "code",
   "execution_count": null,
   "id": "84995f89-ced9-4b8a-9f21-5e9ba7e3e602",
   "metadata": {},
   "outputs": [],
   "source": []
  }
 ],
 "metadata": {
  "kernelspec": {
   "display_name": "Python 3 (ipykernel)",
   "language": "python",
   "name": "python3"
  },
  "language_info": {
   "codemirror_mode": {
    "name": "ipython",
    "version": 3
   },
   "file_extension": ".py",
   "mimetype": "text/x-python",
   "name": "python",
   "nbconvert_exporter": "python",
   "pygments_lexer": "ipython3",
   "version": "3.12.4"
  }
 },
 "nbformat": 4,
 "nbformat_minor": 5
}
