{
 "cells": [
  {
   "cell_type": "code",
   "execution_count": 1,
   "id": "9947d60a-9d23-42d2-954d-9fadeccf71af",
   "metadata": {},
   "outputs": [
    {
     "name": "stdout",
     "output_type": "stream",
     "text": [
      "DFS for undirected graph (Fig-1):\n",
      "A B G F E D \n",
      "DFS for directed graph (Fig-2):\n",
      "A B E D C "
     ]
    }
   ],
   "source": [
    "# DFS for an undirected graph (Fig-1)\n",
    "def dfs_undirected(graph, start, visited=None):\n",
    "    if visited is None:\n",
    "        visited = set()\n",
    "    visited.add(start)\n",
    "    print(start, end=' ')\n",
    "    \n",
    "    for neighbor in graph[start]:\n",
    "        if neighbor not in visited:\n",
    "            dfs_undirected(graph, neighbor, visited)\n",
    "\n",
    "# DFS for a directed graph (Fig-2)\n",
    "def dfs_directed(graph, start, visited=None):\n",
    "    if visited is None:\n",
    "        visited = set()\n",
    "    visited.add(start)\n",
    "    print(start, end=' ')\n",
    "    \n",
    "    for neighbor in graph[start]:\n",
    "        if neighbor not in visited:\n",
    "            dfs_directed(graph, neighbor, visited)\n",
    "\n",
    "# Example Graphs\n",
    "graph_undirected = {\n",
    "    'A': ['B', 'G'],\n",
    "    'B': ['A', 'G', 'E'],\n",
    "    'E': ['B', 'D'],\n",
    "    'D': ['E'],\n",
    "    'G': ['A', 'B', 'F'],\n",
    "    'F': ['G']\n",
    "}\n",
    "\n",
    "graph_directed = {\n",
    "    'A': ['B', 'D'],\n",
    "    'B': ['E'],\n",
    "    'C': ['B'],\n",
    "    'D': ['C'],\n",
    "    'E': ['D']\n",
    "}\n",
    "\n",
    "print(\"DFS for undirected graph (Fig-1):\")\n",
    "dfs_undirected(graph_undirected, 'A')\n",
    "\n",
    "print(\"\\nDFS for directed graph (Fig-2):\")\n",
    "dfs_directed(graph_directed, 'A')\n"
   ]
  },
  {
   "cell_type": "code",
   "execution_count": 2,
   "id": "b0ae0196-8266-40b5-9ce0-287a46d8d3d1",
   "metadata": {},
   "outputs": [
    {
     "name": "stdout",
     "output_type": "stream",
     "text": [
      "Items inserted by priority (highest to lowest):\n",
      "Item: E, Value: 5\n",
      "Item: B, Value: 3\n",
      "Item: C, Value: 3\n",
      "Item: A, Value: 1\n",
      "Item: D, Value: 1\n"
     ]
    }
   ],
   "source": [
    "# Define the items and their priority values\n",
    "items = [\n",
    "    ('A', 1),\n",
    "    ('B', 3),\n",
    "    ('C', 3),\n",
    "    ('D', 1),\n",
    "    ('E', 5)\n",
    "]\n",
    "\n",
    "# Function to insert items into the list based on priority\n",
    "def insert_by_priority(items):\n",
    "    # Sort the items by their priority values in descending order\n",
    "    sorted_items = sorted(items, key=lambda x: x[1], reverse=True)\n",
    "    \n",
    "    # Create an empty list to store the sorted items\n",
    "    priority_list = []\n",
    "    \n",
    "    # Insert the sorted items into the list\n",
    "    for item in sorted_items:\n",
    "        priority_list.append(item)\n",
    "    \n",
    "    return priority_list\n",
    "\n",
    "# Insert the items and display the list\n",
    "priority_list = insert_by_priority(items)\n",
    "\n",
    "# Print the sorted list\n",
    "print(\"Items inserted by priority (highest to lowest):\")\n",
    "for item in priority_list:\n",
    "    print(f\"Item: {item[0]}, Value: {item[1]}\")\n"
   ]
  },
  {
   "cell_type": "code",
   "execution_count": 1,
   "id": "cccb6d0f-bab8-4dae-a069-6db71a771fcc",
   "metadata": {},
   "outputs": [
    {
     "name": "stdout",
     "output_type": "stream",
     "text": [
      "Items inserted by priority (highest to lowest):\n",
      "Item: E, Value: 5\n",
      "Item: B, Value: 3\n",
      "Item: C, Value: 3\n",
      "Item: D, Value: 1\n",
      "Item: A, Value: 1\n"
     ]
    }
   ],
   "source": [
    "# Define the items and their priority values\n",
    "items = [\n",
    "    ('A', 1),\n",
    "    ('B', 3),\n",
    "    ('C', 3),\n",
    "    ('D', 1),\n",
    "    ('E', 5)\n",
    "]\n",
    "\n",
    "# Function to sort items by priority in descending order\n",
    "def sort_by_priority(items):\n",
    "    n = len(items)\n",
    "    \n",
    "    # Implementing Selection Sort (descending order)\n",
    "    for i in range(n - 1):\n",
    "        max_idx = i\n",
    "        for j in range(i + 1, n):\n",
    "            if items[j][1] > items[max_idx][1]:  # Find max element\n",
    "                max_idx = j\n",
    "        \n",
    "        # Swap the found maximum element with the first element of the unsorted part\n",
    "        items[i], items[max_idx] = items[max_idx], items[i]\n",
    "    \n",
    "    return items\n",
    "\n",
    "# Insert the items and display the list\n",
    "priority_list = sort_by_priority(items)\n",
    "\n",
    "# Print the sorted list\n",
    "print(\"Items inserted by priority (highest to lowest):\")\n",
    "for item in priority_list:\n",
    "    print(f\"Item: {item[0]}, Value: {item[1]}\")\n"
   ]
  },
  {
   "cell_type": "code",
   "execution_count": null,
   "id": "da7e019f-8284-4d1b-a14e-641b88e409f9",
   "metadata": {},
   "outputs": [],
   "source": []
  }
 ],
 "metadata": {
  "kernelspec": {
   "display_name": "Python 3 (ipykernel)",
   "language": "python",
   "name": "python3"
  },
  "language_info": {
   "codemirror_mode": {
    "name": "ipython",
    "version": 3
   },
   "file_extension": ".py",
   "mimetype": "text/x-python",
   "name": "python",
   "nbconvert_exporter": "python",
   "pygments_lexer": "ipython3",
   "version": "3.12.4"
  }
 },
 "nbformat": 4,
 "nbformat_minor": 5
}
